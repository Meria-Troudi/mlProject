{
 "cells": [
  {
   "cell_type": "code",
   "execution_count": null,
   "id": "9cd1f0cc",
   "metadata": {},
   "outputs": [],
   "source": [
    "import pandas as pd\n",
    "import seaborn as sns\n",
    "import matplotlib.pyplot as plt\n",
    "from sklearn.preprocessing import StandardScaler\n",
    "from sklearn.decomposition import PCA\n"
   ]
  },
  {
   "cell_type": "code",
   "execution_count": null,
   "id": "083ae4ea",
   "metadata": {},
   "outputs": [],
   "source": [
    "df = pd.read_csv(\"C:\\Users\\meria\\Downloads\\ML\\MLproject\\prepared_data.csv\")"
   ]
  },
  {
   "cell_type": "code",
   "execution_count": null,
   "id": "7c7e6a64",
   "metadata": {},
   "outputs": [],
   "source": [
    "df.info()"
   ]
  },
  {
   "cell_type": "code",
   "execution_count": null,
   "id": "c5bdc3a2",
   "metadata": {},
   "outputs": [],
   "source": [
    "features = [\n",
    "    \"Median Salary (USD)\", \"Experience Required (Years)\", \"Job Openings (2024)\",\n",
    "    \"Projected Openings (2030)\", \"Remote Work Ratio (%)\", \"Automation Risk (%)\",\n",
    "    \"Gender Diversity (%)\", \"Education_Num\", \"AI_Impact_Num\", \"Job_Status_Num\",\n",
    "    \"Industry_education\",\"Industry_entertainment\",\"Industry_finance\",\"Industry_healthcare\",\n",
    "    \"Industry_it\",\"Industry_manufacturing\",\"Industry_retail\",\"Industry_transportation\",\n",
    "    \"Location_australia\",\"Location_brazil\",\"Location_canada\",\"Location_china\",\"Location_germany\",\n",
    "    \"Location_india\",\"Location_uk\",\"Location_usa\"\n",
    "]\n",
    "\n",
    "X = df[features]\n",
    "scaler = StandardScaler()\n",
    "X_scaled = scaler.fit_transform(X)\n"
   ]
  },
  {
   "cell_type": "code",
   "execution_count": null,
   "id": "553ea2e8",
   "metadata": {},
   "outputs": [],
   "source": [
    "from scipy.cluster.hierarchy import dendrogram, linkage, fcluster\n",
    "\n",
    "linkage_matrix = linkage(X_scaled, method='ward')\n",
    "plt.figure(figsize=(14, 6))\n",
    "dendrogram(linkage_matrix, truncate_mode='lastp', p=10, leaf_rotation=45., leaf_font_size=12., show_contracted=True)\n",
    "plt.title(\"Dendrogramme du Clustering Hiérarchique\")\n",
    "plt.xlabel(\"Clusters\")\n",
    "plt.ylabel(\"Distance (Ward)\")\n",
    "plt.show()\n"
   ]
  },
  {
   "cell_type": "code",
   "execution_count": null,
   "id": "d740404b",
   "metadata": {},
   "outputs": [],
   "source": [
    "clusters = fcluster(linkage_matrix, t=4, criterion='maxclust')\n",
    "df[\"Cluster\"] = clusters"
   ]
  },
  {
   "cell_type": "code",
   "execution_count": null,
   "id": "fde8da6d",
   "metadata": {},
   "outputs": [],
   "source": [
    "cluster_summary = df.groupby(\"Cluster\")[features].mean()\n",
    "display(cluster_summary)\n"
   ]
  },
  {
   "cell_type": "code",
   "execution_count": null,
   "id": "0ca061db",
   "metadata": {},
   "outputs": [],
   "source": [
    "pca = PCA(n_components=2)\n",
    "pca_result = pca.fit_transform(X_scaled)\n",
    "\n",
    "plt.figure(figsize=(8,6))\n",
    "sns.scatterplot(x=pca_result[:,0], y=pca_result[:,1], hue=df[\"Cluster\"], palette=\"Set2\")\n",
    "plt.title(\"Visualisation des Clusters (PCA)\")\n",
    "plt.xlabel(\"Composante principale 1\")\n",
    "plt.ylabel(\"Composante principale 2\")\n",
    "plt.show()\n"
   ]
  },
  {
   "cell_type": "code",
   "execution_count": null,
   "id": "495f81f7",
   "metadata": {},
   "outputs": [],
   "source": [
    "#evaluation\n",
    "from sklearn.metrics import calinski_harabasz_score\n",
    "ch_index = calinski_harabasz_score(X_scaled, df[\"Cluster\"])\n",
    "print(f\"Calinski–Harabasz Index: {ch_index:.3f}\")\n"
   ]
  },
  {
   "cell_type": "code",
   "execution_count": null,
   "id": "36437041",
   "metadata": {},
   "outputs": [],
   "source": [
    "print(\" Interprétation des Clusters (Hierarchical Clustering) \\n\")\n",
    "\n",
    "print(\"Cluster 1 : Experts IA / Data Science\")\n",
    "print(\"  - Salaire : élevé\")\n",
    "print(\"  - Risque d’automatisation : faible\")\n",
    "print(\"  - Éducation : forte (masters, doctorats)\")\n",
    "print(\"  - Interprétation : Métiers experts de l’IA, data scientists, chercheurs IA\\n\")\n",
    "\n",
    "print(\"Cluster 2 : Développeurs / Ingénieurs logiciels\")\n",
    "print(\"  - Salaire : moyen\")\n",
    "print(\"  - Risque d’automatisation : modéré\")\n",
    "print(\"  - Secteur : principalement IT, finance, retail\")\n",
    "print(\"  - Interprétation : Métiers techniques intermédiaires du numérique\\n\")\n",
    "\n",
    "print(\"Cluster 3 : Support technique / postes répétitifs\")\n",
    "print(\"  - Salaire : faible\")\n",
    "print(\"  - Risque d’automatisation : élevé\")\n",
    "print(\"  - Secteurs : manufacturing, retail, transport\")\n",
    "print(\"  - Interprétation : Métiers vulnérables à la robotisation, nécessitant reconversion\\n\")\n",
    "\n",
    "print(\"Cluster 4 : Métiers hybrides et émergents\")\n",
    "print(\"  - Salaire : élevé\")\n",
    "print(\"  - Risque d’automatisation : faible\")\n",
    "print(\"  - Caractéristiques : interdisciplinaires (IA + santé / finance / éthique / éducation)\")\n",
    "print(\"  - Interprétation : Nouveaux métiers hybrides de l’IA (AI Policy, Data Ethics, Healthcare Analyst)\")\n"
   ]
  }
 ],
 "metadata": {
  "kernelspec": {
   "display_name": ".venv",
   "language": "python",
   "name": "python3"
  },
  "language_info": {
   "codemirror_mode": {
    "name": "ipython",
    "version": 3
   },
   "file_extension": ".py",
   "mimetype": "text/x-python",
   "name": "python",
   "nbconvert_exporter": "python",
   "pygments_lexer": "ipython3",
   "version": "3.11.9"
  }
 },
 "nbformat": 4,
 "nbformat_minor": 5
}
